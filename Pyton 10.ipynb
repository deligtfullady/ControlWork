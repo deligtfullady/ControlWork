{
  "cells": [
    {
      "cell_type": "markdown",
      "metadata": {
        "id": "view-in-github",
        "colab_type": "text"
      },
      "source": [
        "<a href=\"https://colab.research.google.com/github/deligtfullady/ControlWork/blob/main/Pyton%2010.ipynb\" target=\"_parent\"><img src=\"https://colab.research.google.com/assets/colab-badge.svg\" alt=\"Open In Colab\"/></a>"
      ]
    },
    {
      "cell_type": "code",
      "source": [
        "Unset\n",
        "import random\n",
        "lst = ['robot'] * 10\n",
        "lst += ['human'] * 10\n",
        "random.shuffle(lst)\n",
        "data = pd.DataFrame({'whoAmI':lst})\n",
        "data.head()\n",
        "\n",
        "import pandas as pd\n",
        "import random\n",
        "# Генерация\n",
        "DataFrame\n",
        "lst=['robot']*10\n",
        "lst+=['human']*10\n",
        "random.shuffle(lst)\n",
        "data=pd.DataFrame({'whoAmI':lst})\n",
        "# Создание one-hot кодирования\n",
        "unique_values=data['whoAmI'].unique()\n",
        "# Находим уникальные значения\n",
        "one_hot=pd.DataFrame()\n",
        "for value in unique_values:\n",
        "    one_hot[value]=(data['whoAmI']==value).astype(int)\n",
        "# Объединение one-hot кодирования с исходным DataFrame (опционально)\n",
        "data=pd.concat([data,one_hot],axis=1)\n",
        "print(data.head())\n",
        "\n",
        "\n",
        "import pandas as pd\n",
        "import seaborn as sns\n",
        "import matplotlib.pyplot as plt\n",
        "\n",
        "# Загрузка данных\n",
        "df = pd.read_csv('data.csv')\n",
        "\n",
        "# Проверка названий столбцов\n",
        "print(df.columns)\n",
        "sns.lineplot(x='age', y='spending_score', data=df)\n",
        "plt.title('Age vs Spending Score')\n",
        "plt.xlabel('Age')\n",
        "plt.ylabel('Spending Score')\n",
        "plt.show()\n",
        "\n",
        "import pandas as pd\n",
        "import seaborn as sns\n",
        "import matplotlib.pyplot as plt\n",
        "# Загрузка данных из CSV-файла\n",
        "df=pd.read_csv('data.csv')\n",
        "# Создание точечного графика с использованием Seaborn\n",
        "# ОсьX: зарплата(salary)\n",
        "# ОсьY: бонусы(bonus)\n",
        "# Размер точек пропорционален количеству лет в компании (years_at_company)\n",
        "sns.scatterplot(x='salary',y='bonus',size='years_at_company', data=df)\n",
        "# Настройка заголовка графика\n",
        "plt.title('SalaryvsBonuswithYearsatCompany')\n",
        "# Настройка меток осей\n",
        "plt.xlabel('Salary')\n",
        "plt.ylabel('Bonus')\n",
        "# Отображение графика\n",
        "plt.show()"
      ],
      "metadata": {
        "colab": {
          "base_uri": "https://localhost:8080/",
          "height": 211
        },
        "id": "vsIPJCUnhz5x",
        "outputId": "4c41a8b6-6d77-4d9f-f3eb-c86208ddfe35"
      },
      "execution_count": 2,
      "outputs": [
        {
          "output_type": "error",
          "ename": "NameError",
          "evalue": "name 'pd' is not defined",
          "traceback": [
            "\u001b[0;31m---------------------------------------------------------------------------\u001b[0m",
            "\u001b[0;31mNameError\u001b[0m                                 Traceback (most recent call last)",
            "\u001b[0;32m<ipython-input-2-b7911b156193>\u001b[0m in \u001b[0;36m<cell line: 3>\u001b[0;34m()\u001b[0m\n\u001b[1;32m      1\u001b[0m \u001b[0;31m# Загрузка df\u001b[0m\u001b[0;34m\u001b[0m\u001b[0;34m\u001b[0m\u001b[0m\n\u001b[1;32m      2\u001b[0m \u001b[0;31m# вариант 1\u001b[0m\u001b[0;34m\u001b[0m\u001b[0;34m\u001b[0m\u001b[0m\n\u001b[0;32m----> 3\u001b[0;31m \u001b[0madv1_df\u001b[0m \u001b[0;34m=\u001b[0m \u001b[0mpd\u001b[0m\u001b[0;34m.\u001b[0m\u001b[0mread_csv\u001b[0m\u001b[0;34m(\u001b[0m\u001b[0;34m'advertising_1.csv'\u001b[0m\u001b[0;34m,\u001b[0m \u001b[0mindex_col\u001b[0m\u001b[0;34m=\u001b[0m\u001b[0;34m'Number'\u001b[0m\u001b[0;34m)\u001b[0m\u001b[0;34m\u001b[0m\u001b[0;34m\u001b[0m\u001b[0m\n\u001b[0m\u001b[1;32m      4\u001b[0m \u001b[0;31m# вариант 2\u001b[0m\u001b[0;34m\u001b[0m\u001b[0;34m\u001b[0m\u001b[0m\n\u001b[1;32m      5\u001b[0m \u001b[0madv1_df\u001b[0m \u001b[0;34m=\u001b[0m \u001b[0mpd\u001b[0m\u001b[0;34m.\u001b[0m\u001b[0mread_csv\u001b[0m\u001b[0;34m(\u001b[0m\u001b[0;34m'advertising_1.csv'\u001b[0m\u001b[0;34m)\u001b[0m\u001b[0;34m\u001b[0m\u001b[0;34m\u001b[0m\u001b[0m\n",
            "\u001b[0;31mNameError\u001b[0m: name 'pd' is not defined"
          ]
        }
      ]
    }
  ],
  "metadata": {
    "colab": {
      "name": "Добро пожаловать в Colaboratory!",
      "toc_visible": true,
      "provenance": [],
      "include_colab_link": true
    },
    "kernelspec": {
      "display_name": "Python 3",
      "name": "python3"
    }
  },
  "nbformat": 4,
  "nbformat_minor": 0
}